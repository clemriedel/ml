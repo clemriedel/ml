{
 "metadata": {
  "name": "",
  "signature": "sha256:4af505bd46c97e9ff3da7c6eca436d036e83c8896761a3ac3b76c179144777c6"
 },
 "nbformat": 3,
 "nbformat_minor": 0,
 "worksheets": [
  {
   "cells": [
    {
     "cell_type": "markdown",
     "metadata": {},
     "source": [
      "# Berkeley Machine Learning Group \n",
      "Tue 5-7pm, Jun 17 to Aug 26 @ D-Lab\n",
      "\n"
     ]
    },
    {
     "cell_type": "markdown",
     "metadata": {},
     "source": [
      "## Introduction\n",
      "\n",
      "This group you will teach you 'Machine Learning' and how to apply it by realizing a concrete project. It will serve as a support of the free machine learning coursera online class:\n",
      "https://www.coursera.org/course/ml    (taught by Andrew Ng, director of the Stanford Artificial Intelligence Lab).\n",
      "\n",
      "The first things to do are:\n",
      "- Register for the coursera online class.\n",
      "- Join the Berkeley Machine Learning Group.\n",
      "\n",
      "We meet every Tuesday at the D-Lab from 5pm to 7pm (June 17 - August 26) to review the material of the class and help you realize your project.\n",
      "\n",
      "\n",
      "## Modus operandi and timeline\n",
      "\n",
      "\n",
      "#### Machine learning coursera class:\n",
      "\n",
      "The machine learning coursera class (that will be refereed to ml-class) should be pretty straightforward. Ideally, you should look at the videos and try to do the assignments on your own before coming to the meeting.\n",
      "\n",
      "\n",
      "#### Project:\n",
      "\n",
      "We also propose participants to develop their own, optional, Machine Learning project. The project can be axed towards Research or Company. Examples of projects can be found here: http://cs229.stanford.edu/projects2013.html. 10 weeks is a very short time for such project: you will find support in the group but be ready to lead yourself and set realistic goals. We can help you to define a project, hopefully find data and give you guidance but then you will be mostly on your own. Projects can be done in teams of up to three students.\n",
      "\n",
      "The project's timeline is:\n",
      "\n",
      "- Week 2 (June 24): <strong>Proposal</strong>: Title of the project, full names of all of your team members, and about a 300-500 word description of what you plan to do.\n",
      "\n",
      "\n",
      "- Week 6 (July 29): <strong>Milestone</strong>: What you have done so far and what you plan to do. ~Draft of the final report, less than 3 pages. (The audience is familiar with machine learning, do not spend not spend two pages explaining what logistic regression is.)\n",
      "\n",
      "\n",
      "- Week 11 (August 26): <strong>Final write-up and presentation</strong>: Publishable (or nearly publishable) piece of work, less than 5 pages. The presentation can be simply oral, a poster, a video...\n"
     ]
    },
    {
     "cell_type": "markdown",
     "metadata": {},
     "source": [
      "\n",
      "# Week 1 (June 17):\n",
      "\n",
      "- General introduction\n",
      "- Github account created. Git, Python, R, Matalb or any software that you plan to use installed on your personal computer.\n",
      "\n",
      "### ml-class\n",
      "- Introduction\n",
      "- Linear Regression with One Variable\n",
      "- Linear Algebra Review (Optional)\n",
      "\n",
      "### Project\n",
      "- Discussion about the proposals"
     ]
    },
    {
     "cell_type": "markdown",
     "metadata": {},
     "source": [
      "# Week 2 (June 24):\n",
      "\n",
      "### ml-class\n",
      "- Introduction\n",
      "- Linear Regression with One Variable\n",
      "- Linear Algebra Review (Optional)\n",
      "\n",
      "### Project\n",
      "- Proposal"
     ]
    },
    {
     "cell_type": "markdown",
     "metadata": {},
     "source": [
      "# Week 3 (July 1st):\n",
      "\n",
      "### ml-class\n",
      "- Linear Regression with Multiple Variables\n",
      "- Octave Tutorial "
     ]
    },
    {
     "cell_type": "markdown",
     "metadata": {},
     "source": [
      "# Week 4 (July 8):\n",
      "\n",
      "### ml-class\n",
      "- Regularization \n",
      "- Logistic Regression"
     ]
    },
    {
     "cell_type": "markdown",
     "metadata": {},
     "source": [
      "# Week 5 (July 15):\n",
      "\n",
      "### ml-class\n",
      "- Neural Networks: Representation"
     ]
    },
    {
     "cell_type": "markdown",
     "metadata": {},
     "source": [
      "# Week 6 (July 22):\n",
      "\n",
      "### ml-class\n",
      "- Neural Networks: Learning"
     ]
    },
    {
     "cell_type": "markdown",
     "metadata": {},
     "source": [
      "# Week 7 (July 29):\n",
      "\n",
      "### ml-class\n",
      "- Support Vector Machines\n",
      "\n",
      "### Project\n",
      "- Milestone"
     ]
    },
    {
     "cell_type": "markdown",
     "metadata": {},
     "source": [
      "# Week 8 (August 5):\n",
      "\n",
      "### ml-class\n",
      "- Clustering\n",
      "- Dimensionality Reduction"
     ]
    },
    {
     "cell_type": "markdown",
     "metadata": {},
     "source": [
      "# Week 9 (August 12):\n",
      "\n",
      "### ml-class\n",
      "- Anomaly Detection\n",
      "- Recommender Systems "
     ]
    },
    {
     "cell_type": "markdown",
     "metadata": {},
     "source": [
      "# Week 10 (August 19):\n",
      "\n",
      "### ml-class\n",
      "- Large Scale Machine Learning"
     ]
    },
    {
     "cell_type": "markdown",
     "metadata": {},
     "source": [
      "# Week 11 (August 26):\n",
      "\n",
      "### Project\n",
      "- Final write-up and presentation"
     ]
    }
   ],
   "metadata": {}
  }
 ]
}